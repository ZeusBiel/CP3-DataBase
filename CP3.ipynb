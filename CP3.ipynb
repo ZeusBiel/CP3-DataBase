{
 "cells": [
  {
   "cell_type": "code",
   "execution_count": 36,
   "id": "1ef230a7-2808-4354-ad54-6b2df52f8db9",
   "metadata": {},
   "outputs": [],
   "source": [
    "import pandas as pd\n",
    "import matplotlib.pyplot as plt"
   ]
  },
  {
   "cell_type": "code",
   "execution_count": 57,
   "id": "2baf365d-7e89-4c65-800d-97e49f9083b6",
   "metadata": {},
   "outputs": [
    {
     "data": {
      "text/plain": [
       "uf              0\n",
       "tipo_doenca     0\n",
       "local_obito     0\n",
       "faixa_etaria    0\n",
       "sexo            0\n",
       "total           0\n",
       "dtype: int64"
      ]
     },
     "metadata": {},
     "output_type": "display_data"
    }
   ],
   "source": [
    "base = pd.read_csv('obitos-2024.csv')\n",
    "#Retirando valores nao informados e contando valores nulos\n",
    "nulos = base.isnull().sum()\n",
    "display(nulos)\n",
    "\n",
    "base = base[base['faixa_etaria'] != 'N/I']\n",
    "base = base[base['sexo'] != 'I']"
   ]
  },
  {
   "cell_type": "code",
   "execution_count": 48,
   "id": "50d65abe-0507-4fc3-b692-97eb92a47591",
   "metadata": {},
   "outputs": [],
   "source": [
    "base_m = base[base['sexo'] == 'M']\n",
    "base_f = base[base['sexo'] == 'F']"
   ]
  },
  {
   "cell_type": "code",
   "execution_count": null,
   "id": "eced1e52-1ecf-40b1-8915-db8f262deec8",
   "metadata": {},
   "outputs": [],
   "source": []
  }
 ],
 "metadata": {
  "kernelspec": {
   "display_name": "Python 3 (ipykernel)",
   "language": "python",
   "name": "python3"
  },
  "language_info": {
   "codemirror_mode": {
    "name": "ipython",
    "version": 3
   },
   "file_extension": ".py",
   "mimetype": "text/x-python",
   "name": "python",
   "nbconvert_exporter": "python",
   "pygments_lexer": "ipython3",
   "version": "3.9.12"
  }
 },
 "nbformat": 4,
 "nbformat_minor": 5
}
